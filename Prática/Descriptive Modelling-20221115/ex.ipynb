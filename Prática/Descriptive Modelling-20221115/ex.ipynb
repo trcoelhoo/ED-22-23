{
 "cells": [
  {
   "cell_type": "code",
   "execution_count": 12,
   "metadata": {},
   "outputs": [
    {
     "name": "stderr",
     "output_type": "stream",
     "text": [
      "C:\\Users\\TiagoC\\AppData\\Local\\Temp\\ipykernel_26208\\1182375042.py:16: UserWarning: No data for colormapping provided via 'c'. Parameters 'cmap' will be ignored\n",
      "  plt.scatter(X1, X2, c=Y, s=50, cmap='autumn')\n"
     ]
    },
    {
     "data": {
      "image/png": "[encoded data removed]",
      "text/plain": [
       "<Figure size 640x480 with 1 Axes>"
      ]
     },
     "metadata": {},
     "output_type": "display_data"
    },
    {
     "ename": "LinAlgError",
     "evalue": "Last 2 dimensions of the array must be square",
     "output_type": "error",
     "traceback": [
      "\u001b[1;31m---------------------------------------------------------------------------\u001b[0m",
      "\u001b[1;31mLinAlgError\u001b[0m                               Traceback (most recent call last)",
      "Cell \u001b[1;32mIn [12], line 26\u001b[0m\n\u001b[0;32m     17\u001b[0m plt\u001b[39m.\u001b[39mshow()\n\u001b[0;32m     23\u001b[0m \u001b[39m#calculate eigedencompostion and print the eigenvectors\u001b[39;00m\n\u001b[0;32m     24\u001b[0m \u001b[39m#and eigenvalues\u001b[39;00m\n\u001b[1;32m---> 26\u001b[0m eigval, eigvec \u001b[39m=\u001b[39m np\u001b[39m.\u001b[39mlinalg\u001b[39m.\u001b[39meig(X)\n\u001b[0;32m     27\u001b[0m \u001b[39mprint\u001b[39m(\u001b[39m'\u001b[39m\u001b[39meigenvectors: \u001b[39m\u001b[39m'\u001b[39m, eigvec)\n\u001b[0;32m     28\u001b[0m \u001b[39mprint\u001b[39m(\u001b[39m'\u001b[39m\u001b[39meigenvalues: \u001b[39m\u001b[39m'\u001b[39m, eigval)\n",
      "File \u001b[1;32m<__array_function__ internals>:180\u001b[0m, in \u001b[0;36meig\u001b[1;34m(*args, **kwargs)\u001b[0m\n",
      "File \u001b[1;32m~\\AppData\\Local\\Packages\\PythonSoftwareFoundation.Python.3.10_qbz5n2kfra8p0\\LocalCache\\local-packages\\Python310\\site-packages\\numpy\\linalg\\linalg.py:1304\u001b[0m, in \u001b[0;36meig\u001b[1;34m(a)\u001b[0m\n\u001b[0;32m   1302\u001b[0m a, wrap \u001b[39m=\u001b[39m _makearray(a)\n\u001b[0;32m   1303\u001b[0m _assert_stacked_2d(a)\n\u001b[1;32m-> 1304\u001b[0m _assert_stacked_square(a)\n\u001b[0;32m   1305\u001b[0m _assert_finite(a)\n\u001b[0;32m   1306\u001b[0m t, result_t \u001b[39m=\u001b[39m _commonType(a)\n",
      "File \u001b[1;32m~\\AppData\\Local\\Packages\\PythonSoftwareFoundation.Python.3.10_qbz5n2kfra8p0\\LocalCache\\local-packages\\Python310\\site-packages\\numpy\\linalg\\linalg.py:203\u001b[0m, in \u001b[0;36m_assert_stacked_square\u001b[1;34m(*arrays)\u001b[0m\n\u001b[0;32m    201\u001b[0m m, n \u001b[39m=\u001b[39m a\u001b[39m.\u001b[39mshape[\u001b[39m-\u001b[39m\u001b[39m2\u001b[39m:]\n\u001b[0;32m    202\u001b[0m \u001b[39mif\u001b[39;00m m \u001b[39m!=\u001b[39m n:\n\u001b[1;32m--> 203\u001b[0m     \u001b[39mraise\u001b[39;00m LinAlgError(\u001b[39m'\u001b[39m\u001b[39mLast 2 dimensions of the array must be square\u001b[39m\u001b[39m'\u001b[39m)\n",
      "\u001b[1;31mLinAlgError\u001b[0m: Last 2 dimensions of the array must be square"
     ]
    }
   ],
   "source": [
    "#create data set with X1=4, 3.5, 2.5, 2 e X2=2.8, 4, 1.1, 2.1 e label=1, 1, 0, 0\n",
    "#X1 and X2 are the features and label is the class\n",
    "\n",
    "import numpy as np\n",
    "import matplotlib.pyplot as plt\n",
    "from sklearn import svm\n",
    "\n",
    "X1 = np.array([[4, 3.5, 2.5, 2]])\n",
    "X2 = np.array([[2.8, 4, 1.1, 2.1]])\n",
    "Y = np.array([[1, 1, 0, 0]])\n",
    "\n",
    "\n",
    "\n",
    "#calculate eigedencompostion and print the eigenvectors\n",
    "#and eigenvalues\n",
    "\n",
    "eigval, eigvec = np.linalg.eig(X)\n",
    "print('eigenvectors: ', eigvec)\n",
    "print('eigenvalues: ', eigval)\n",
    "\n",
    "\n",
    "\n",
    "\n",
    "\n",
    "\n",
    "\n",
    "\n",
    "\n",
    "\n",
    "\n",
    "\n"
   ]
  }
 ],
 "metadata": {
  "kernelspec": {
   "display_name": "Python 3.10.8 64-bit (microsoft store)",
   "language": "python",
   "name": "python3"
  },
  "language_info": {
   "codemirror_mode": {
    "name": "ipython",
    "version": 3
   },
   "file_extension": ".py",
   "mimetype": "text/x-python",
   "name": "python",
   "nbconvert_exporter": "python",
   "pygments_lexer": "ipython3",
   "version": "3.10.8"
  },
  "orig_nbformat": 4,
  "vscode": {
   "interpreter": {
    "hash": "25ff42f5d583ba210357ea1e4fd14887d743d99d25081bf7f0755cbc50cbce62"
   }
  }
 },
 "nbformat": 4,
 "nbformat_minor": 2
}
