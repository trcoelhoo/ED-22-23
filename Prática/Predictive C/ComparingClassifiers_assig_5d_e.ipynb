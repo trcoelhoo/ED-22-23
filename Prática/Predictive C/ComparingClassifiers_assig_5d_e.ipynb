{
 "cells": [
  {
   "cell_type": "markdown",
   "metadata": {},
   "source": [
    "# Assignement V: Evaluation Methodologies, Model Selection & Comparison of Models\n",
    "\n",
    "## Comparison of Models\n",
    "\n",
    "**Download the data set https://archive.ics.uci.edu/ml/datasets/HCV+data and consider the class Blood-Donor and Non-Blood-Donor to be predicted.**"
   ]
  },
  {
   "cell_type": "code",
   "execution_count": 1,
   "metadata": {},
   "outputs": [],
   "source": [
    "#Disable warning\n",
    "import warnings\n",
    "warnings.filterwarnings(\"ignore\", category=FutureWarning)"
   ]
  },
  {
   "cell_type": "code",
   "execution_count": 2,
   "metadata": {},
   "outputs": [],
   "source": [
    "# libraries\n",
    "#numeric\n",
    "import numpy as np\n",
    "import pandas as pd\n",
    "# graphics\n",
    "import matplotlib.pyplot as plt \n",
    "import matplotlib.gridspec as gridspec \n"
   ]
  },
  {
   "cell_type": "markdown",
   "metadata": {},
   "source": [
    "Download the data set https://archive.ics.uci.edu/ml/datasets/HCV+data"
   ]
  },
  {
   "cell_type": "code",
   "execution_count": 3,
   "metadata": {},
   "outputs": [
    {
     "data": {
      "text/plain": [
       "(615, 14)"
      ]
     },
     "execution_count": 3,
     "metadata": {},
     "output_type": "execute_result"
    }
   ],
   "source": [
    "df = pd.read_csv(\"hcvdat0.csv\",header = 0)\n",
    "df.shape"
   ]
  },
  {
   "cell_type": "code",
   "execution_count": 4,
   "metadata": {},
   "outputs": [
    {
     "data": {
      "text/html": [
       "<div>\n",
       "<style scoped>\n",
       "    .dataframe tbody tr th:only-of-type {\n",
       "        vertical-align: middle;\n",
       "    }\n",
       "\n",
       "    .dataframe tbody tr th {\n",
       "        vertical-align: top;\n",
       "    }\n",
       "\n",
       "    .dataframe thead th {\n",
       "        text-align: right;\n",
       "    }\n",
       "</style>\n",
       "<table border=\"1\" class=\"dataframe\">\n",
       "  <thead>\n",
       "    <tr style=\"text-align: right;\">\n",
       "      <th></th>\n",
       "      <th>Unnamed: 0</th>\n",
       "      <th>Category</th>\n",
       "      <th>Age</th>\n",
       "      <th>Sex</th>\n",
       "      <th>ALB</th>\n",
       "      <th>ALP</th>\n",
       "      <th>ALT</th>\n",
       "      <th>AST</th>\n",
       "      <th>BIL</th>\n",
       "      <th>CHE</th>\n",
       "      <th>CHOL</th>\n",
       "      <th>CREA</th>\n",
       "      <th>GGT</th>\n",
       "      <th>PROT</th>\n",
       "    </tr>\n",
       "  </thead>\n",
       "  <tbody>\n",
       "    <tr>\n",
       "      <th>0</th>\n",
       "      <td>1</td>\n",
       "      <td>0=Blood Donor</td>\n",
       "      <td>32</td>\n",
       "      <td>m</td>\n",
       "      <td>38.5</td>\n",
       "      <td>52.5</td>\n",
       "      <td>7.7</td>\n",
       "      <td>22.1</td>\n",
       "      <td>7.5</td>\n",
       "      <td>6.93</td>\n",
       "      <td>3.23</td>\n",
       "      <td>106.0</td>\n",
       "      <td>12.1</td>\n",
       "      <td>69.0</td>\n",
       "    </tr>\n",
       "    <tr>\n",
       "      <th>1</th>\n",
       "      <td>2</td>\n",
       "      <td>0=Blood Donor</td>\n",
       "      <td>32</td>\n",
       "      <td>m</td>\n",
       "      <td>38.5</td>\n",
       "      <td>70.3</td>\n",
       "      <td>18.0</td>\n",
       "      <td>24.7</td>\n",
       "      <td>3.9</td>\n",
       "      <td>11.17</td>\n",
       "      <td>4.80</td>\n",
       "      <td>74.0</td>\n",
       "      <td>15.6</td>\n",
       "      <td>76.5</td>\n",
       "    </tr>\n",
       "    <tr>\n",
       "      <th>2</th>\n",
       "      <td>3</td>\n",
       "      <td>0=Blood Donor</td>\n",
       "      <td>32</td>\n",
       "      <td>m</td>\n",
       "      <td>46.9</td>\n",
       "      <td>74.7</td>\n",
       "      <td>36.2</td>\n",
       "      <td>52.6</td>\n",
       "      <td>6.1</td>\n",
       "      <td>8.84</td>\n",
       "      <td>5.20</td>\n",
       "      <td>86.0</td>\n",
       "      <td>33.2</td>\n",
       "      <td>79.3</td>\n",
       "    </tr>\n",
       "    <tr>\n",
       "      <th>3</th>\n",
       "      <td>4</td>\n",
       "      <td>0=Blood Donor</td>\n",
       "      <td>32</td>\n",
       "      <td>m</td>\n",
       "      <td>43.2</td>\n",
       "      <td>52.0</td>\n",
       "      <td>30.6</td>\n",
       "      <td>22.6</td>\n",
       "      <td>18.9</td>\n",
       "      <td>7.33</td>\n",
       "      <td>4.74</td>\n",
       "      <td>80.0</td>\n",
       "      <td>33.8</td>\n",
       "      <td>75.7</td>\n",
       "    </tr>\n",
       "    <tr>\n",
       "      <th>4</th>\n",
       "      <td>5</td>\n",
       "      <td>0=Blood Donor</td>\n",
       "      <td>32</td>\n",
       "      <td>m</td>\n",
       "      <td>39.2</td>\n",
       "      <td>74.1</td>\n",
       "      <td>32.6</td>\n",
       "      <td>24.8</td>\n",
       "      <td>9.6</td>\n",
       "      <td>9.15</td>\n",
       "      <td>4.32</td>\n",
       "      <td>76.0</td>\n",
       "      <td>29.9</td>\n",
       "      <td>68.7</td>\n",
       "    </tr>\n",
       "  </tbody>\n",
       "</table>\n",
       "</div>"
      ],
      "text/plain": [
       "   Unnamed: 0       Category  Age Sex   ALB   ALP   ALT   AST   BIL    CHE  \\\n",
       "0           1  0=Blood Donor   32   m  38.5  52.5   7.7  22.1   7.5   6.93   \n",
       "1           2  0=Blood Donor   32   m  38.5  70.3  18.0  24.7   3.9  11.17   \n",
       "2           3  0=Blood Donor   32   m  46.9  74.7  36.2  52.6   6.1   8.84   \n",
       "3           4  0=Blood Donor   32   m  43.2  52.0  30.6  22.6  18.9   7.33   \n",
       "4           5  0=Blood Donor   32   m  39.2  74.1  32.6  24.8   9.6   9.15   \n",
       "\n",
       "   CHOL   CREA   GGT  PROT  \n",
       "0  3.23  106.0  12.1  69.0  \n",
       "1  4.80   74.0  15.6  76.5  \n",
       "2  5.20   86.0  33.2  79.3  \n",
       "3  4.74   80.0  33.8  75.7  \n",
       "4  4.32   76.0  29.9  68.7  "
      ]
     },
     "execution_count": 4,
     "metadata": {},
     "output_type": "execute_result"
    }
   ],
   "source": [
    "df.head()"
   ]
  },
  {
   "cell_type": "code",
   "execution_count": 5,
   "metadata": {},
   "outputs": [
    {
     "data": {
      "text/html": [
       "<div>\n",
       "<style scoped>\n",
       "    .dataframe tbody tr th:only-of-type {\n",
       "        vertical-align: middle;\n",
       "    }\n",
       "\n",
       "    .dataframe tbody tr th {\n",
       "        vertical-align: top;\n",
       "    }\n",
       "\n",
       "    .dataframe thead th {\n",
       "        text-align: right;\n",
       "    }\n",
       "</style>\n",
       "<table border=\"1\" class=\"dataframe\">\n",
       "  <thead>\n",
       "    <tr style=\"text-align: right;\">\n",
       "      <th></th>\n",
       "      <th>Age</th>\n",
       "      <th>ALB</th>\n",
       "      <th>ALP</th>\n",
       "      <th>ALT</th>\n",
       "      <th>AST</th>\n",
       "      <th>BIL</th>\n",
       "      <th>CHE</th>\n",
       "      <th>CHOL</th>\n",
       "      <th>CREA</th>\n",
       "      <th>GGT</th>\n",
       "      <th>PROT</th>\n",
       "    </tr>\n",
       "  </thead>\n",
       "  <tbody>\n",
       "    <tr>\n",
       "      <th>count</th>\n",
       "      <td>615.000000</td>\n",
       "      <td>614.000000</td>\n",
       "      <td>597.000000</td>\n",
       "      <td>614.000000</td>\n",
       "      <td>615.000000</td>\n",
       "      <td>615.000000</td>\n",
       "      <td>615.000000</td>\n",
       "      <td>605.000000</td>\n",
       "      <td>615.000000</td>\n",
       "      <td>615.000000</td>\n",
       "      <td>614.000000</td>\n",
       "    </tr>\n",
       "    <tr>\n",
       "      <th>mean</th>\n",
       "      <td>47.408130</td>\n",
       "      <td>41.620195</td>\n",
       "      <td>68.283920</td>\n",
       "      <td>28.450814</td>\n",
       "      <td>34.786341</td>\n",
       "      <td>11.396748</td>\n",
       "      <td>8.196634</td>\n",
       "      <td>5.368099</td>\n",
       "      <td>81.287805</td>\n",
       "      <td>39.533171</td>\n",
       "      <td>72.044137</td>\n",
       "    </tr>\n",
       "    <tr>\n",
       "      <th>std</th>\n",
       "      <td>10.055105</td>\n",
       "      <td>5.780629</td>\n",
       "      <td>26.028315</td>\n",
       "      <td>25.469689</td>\n",
       "      <td>33.090690</td>\n",
       "      <td>19.673150</td>\n",
       "      <td>2.205657</td>\n",
       "      <td>1.132728</td>\n",
       "      <td>49.756166</td>\n",
       "      <td>54.661071</td>\n",
       "      <td>5.402636</td>\n",
       "    </tr>\n",
       "    <tr>\n",
       "      <th>min</th>\n",
       "      <td>19.000000</td>\n",
       "      <td>14.900000</td>\n",
       "      <td>11.300000</td>\n",
       "      <td>0.900000</td>\n",
       "      <td>10.600000</td>\n",
       "      <td>0.800000</td>\n",
       "      <td>1.420000</td>\n",
       "      <td>1.430000</td>\n",
       "      <td>8.000000</td>\n",
       "      <td>4.500000</td>\n",
       "      <td>44.800000</td>\n",
       "    </tr>\n",
       "    <tr>\n",
       "      <th>25%</th>\n",
       "      <td>39.000000</td>\n",
       "      <td>38.800000</td>\n",
       "      <td>52.500000</td>\n",
       "      <td>16.400000</td>\n",
       "      <td>21.600000</td>\n",
       "      <td>5.300000</td>\n",
       "      <td>6.935000</td>\n",
       "      <td>4.610000</td>\n",
       "      <td>67.000000</td>\n",
       "      <td>15.700000</td>\n",
       "      <td>69.300000</td>\n",
       "    </tr>\n",
       "    <tr>\n",
       "      <th>50%</th>\n",
       "      <td>47.000000</td>\n",
       "      <td>41.950000</td>\n",
       "      <td>66.200000</td>\n",
       "      <td>23.000000</td>\n",
       "      <td>25.900000</td>\n",
       "      <td>7.300000</td>\n",
       "      <td>8.260000</td>\n",
       "      <td>5.300000</td>\n",
       "      <td>77.000000</td>\n",
       "      <td>23.300000</td>\n",
       "      <td>72.200000</td>\n",
       "    </tr>\n",
       "    <tr>\n",
       "      <th>75%</th>\n",
       "      <td>54.000000</td>\n",
       "      <td>45.200000</td>\n",
       "      <td>80.100000</td>\n",
       "      <td>33.075000</td>\n",
       "      <td>32.900000</td>\n",
       "      <td>11.200000</td>\n",
       "      <td>9.590000</td>\n",
       "      <td>6.060000</td>\n",
       "      <td>88.000000</td>\n",
       "      <td>40.200000</td>\n",
       "      <td>75.400000</td>\n",
       "    </tr>\n",
       "    <tr>\n",
       "      <th>max</th>\n",
       "      <td>77.000000</td>\n",
       "      <td>82.200000</td>\n",
       "      <td>416.600000</td>\n",
       "      <td>325.300000</td>\n",
       "      <td>324.000000</td>\n",
       "      <td>254.000000</td>\n",
       "      <td>16.410000</td>\n",
       "      <td>9.670000</td>\n",
       "      <td>1079.100000</td>\n",
       "      <td>650.900000</td>\n",
       "      <td>90.000000</td>\n",
       "    </tr>\n",
       "  </tbody>\n",
       "</table>\n",
       "</div>"
      ],
      "text/plain": [
       "              Age         ALB         ALP         ALT         AST         BIL  \\\n",
       "count  615.000000  614.000000  597.000000  614.000000  615.000000  615.000000   \n",
       "mean    47.408130   41.620195   68.283920   28.450814   34.786341   11.396748   \n",
       "std     10.055105    5.780629   26.028315   25.469689   33.090690   19.673150   \n",
       "min     19.000000   14.900000   11.300000    0.900000   10.600000    0.800000   \n",
       "25%     39.000000   38.800000   52.500000   16.400000   21.600000    5.300000   \n",
       "50%     47.000000   41.950000   66.200000   23.000000   25.900000    7.300000   \n",
       "75%     54.000000   45.200000   80.100000   33.075000   32.900000   11.200000   \n",
       "max     77.000000   82.200000  416.600000  325.300000  324.000000  254.000000   \n",
       "\n",
       "              CHE        CHOL         CREA         GGT        PROT  \n",
       "count  615.000000  605.000000   615.000000  615.000000  614.000000  \n",
       "mean     8.196634    5.368099    81.287805   39.533171   72.044137  \n",
       "std      2.205657    1.132728    49.756166   54.661071    5.402636  \n",
       "min      1.420000    1.430000     8.000000    4.500000   44.800000  \n",
       "25%      6.935000    4.610000    67.000000   15.700000   69.300000  \n",
       "50%      8.260000    5.300000    77.000000   23.300000   72.200000  \n",
       "75%      9.590000    6.060000    88.000000   40.200000   75.400000  \n",
       "max     16.410000    9.670000  1079.100000  650.900000   90.000000  "
      ]
     },
     "execution_count": 5,
     "metadata": {},
     "output_type": "execute_result"
    }
   ],
   "source": [
    "df.drop('Unnamed: 0',axis=1,inplace=True)\n",
    "df.describe()"
   ]
  },
  {
   "cell_type": "markdown",
   "metadata": {},
   "source": [
    "### 1 Eliminating samples or features with missing values\n",
    "###### Deleting samples of the data frame"
   ]
  },
  {
   "cell_type": "code",
   "execution_count": 6,
   "metadata": {},
   "outputs": [],
   "source": [
    "df.dropna();"
   ]
  },
  {
   "cell_type": "markdown",
   "metadata": {},
   "source": [
    "###### Deleting all features with NaN"
   ]
  },
  {
   "cell_type": "code",
   "execution_count": 7,
   "metadata": {},
   "outputs": [],
   "source": [
    "df.dropna(axis=1);"
   ]
  },
  {
   "cell_type": "markdown",
   "metadata": {},
   "source": [
    "### 2 perform imputation"
   ]
  },
  {
   "cell_type": "code",
   "execution_count": 8,
   "metadata": {},
   "outputs": [
    {
     "name": "stdout",
     "output_type": "stream",
     "text": [
      "Missing: 0\n"
     ]
    }
   ],
   "source": [
    "from sklearn.impute import SimpleImputer\n",
    "#print(df.shape)\n",
    "## numpy array\n",
    "values = df.values[:,3:13]\n",
    "#print(df.values[:,3:13].shape)\n",
    "\n",
    "# type of imputation\n",
    "imputer = SimpleImputer(missing_values=np.nan, strategy='mean')# = 'median', ...\n",
    "# Calculation (transform the dataset)\n",
    "ImpDataValues = imputer.fit_transform(values)\n",
    "# count the number of NaN values in each column\n",
    "print('Missing: %d' % np.isnan(ImpDataValues).sum())\n",
    "df.iloc[:,3:13] = ImpDataValues"
   ]
  },
  {
   "cell_type": "markdown",
   "metadata": {},
   "source": [
    "### 3.  Consider that the data is organized into two groups (Blood-Donor and Non-Blood-Donor)\n",
    "#### encode labels and group all the non blood-donor into the same group (or skip the encode...)\n",
    "**group all the non blood-donor into the same group**"
   ]
  },
  {
   "cell_type": "code",
   "execution_count": 9,
   "metadata": {},
   "outputs": [
    {
     "name": "stdout",
     "output_type": "stream",
     "text": [
      "['0=Blood Donor' '0s=suspect Blood Donor' '1=Hepatitis' '2=Fibrosis'\n",
      " '3=Cirrhosis']\n",
      "0=Blood Donor             533\n",
      "3=Cirrhosis                30\n",
      "1=Hepatitis                24\n",
      "2=Fibrosis                 21\n",
      "0s=suspect Blood Donor      7\n",
      "Name: Category, dtype: int64\n",
      "[0 1 2 3 4]\n",
      "[0 1]\n"
     ]
    }
   ],
   "source": [
    "print(df.Category.unique())\n",
    "print(df.Category.value_counts())\n",
    "from sklearn.preprocessing import LabelEncoder\n",
    "class_le = LabelEncoder() \n",
    "y = class_le.fit_transform(df['Category'].values)\n",
    "\n",
    "df['Category'] = y \n",
    "print(df.Category.unique())\n",
    "df['Category'].replace(to_replace=[1,2,3,4], value=1, inplace=True)\n",
    "print(df.Category.unique())"
   ]
  },
  {
   "cell_type": "markdown",
   "metadata": {},
   "source": [
    "# 2.Programming Exercises\n",
    "\n",
    "## 2.4 Read section 4.3 of https://arxiv.org/pdf/1811.12808.pdf\n",
    "## Compare\n",
    "##  • SVM (linear) versus SVM(RBF kernel)\n",
    "##  • perceptron versus multilayer feedforward neural network."
   ]
  },
  {
   "cell_type": "markdown",
   "metadata": {},
   "source": [
    "### 4 Split the data"
   ]
  },
  {
   "cell_type": "code",
   "execution_count": 10,
   "metadata": {},
   "outputs": [],
   "source": [
    "from sklearn.model_selection import train_test_split\n",
    "\n",
    "X = df.values[:,3:13]\n",
    "# Split dataset into training set and test set\n",
    "X_train, X_test, y_train, y_test = train_test_split(X, y, stratify=y, test_size=0.3, random_state=0)"
   ]
  },
  {
   "cell_type": "markdown",
   "metadata": {},
   "source": [
    "### 5 Scaling"
   ]
  },
  {
   "cell_type": "code",
   "execution_count": 11,
   "metadata": {},
   "outputs": [],
   "source": [
    "from sklearn.preprocessing import MinMaxScaler\n",
    "scaler = MinMaxScaler()\n",
    "X_train_scaled = scaler.fit_transform(X_train)\n",
    "X_test_scaled = scaler.transform(X_test)\n"
   ]
  },
  {
   "cell_type": "markdown",
   "metadata": {},
   "source": [
    "## 2.4.1 SVM (linear) versus SVM(RBF kernel)"
   ]
  },
  {
   "cell_type": "code",
   "execution_count": 12,
   "metadata": {},
   "outputs": [],
   "source": [
    "from sklearn.svm import SVC\n",
    "SVM_lin = SVC(kernel='linear', random_state=42)\n",
    "SVM_lin.fit(X_train_scaled, y_train)\n",
    "pred_SVM_lin = SVM_lin.predict(X_test_scaled)\n",
    "\n",
    "SVM_rbf = SVC(kernel='rbf', random_state=42)\n",
    "SVM_rbf.fit(X_train_scaled, y_train)\n",
    "pred_SVM_rbf = SVM_rbf.predict(X_test_scaled)"
   ]
  },
  {
   "cell_type": "code",
   "execution_count": 13,
   "metadata": {},
   "outputs": [
    {
     "name": "stdout",
     "output_type": "stream",
     "text": [
      "[[167   0]\n",
      " [  4  14]]\n",
      "chi-squared: 2.25\n",
      "p-value: 0.13361440253771584\n",
      "As p-value is larger than sig. threshold (α=0.05) -> we cannot reject our null hypothesis and assume that there is no significant difference between the two predictive models\n"
     ]
    }
   ],
   "source": [
    "from mlxtend.evaluate import mcnemar_table, mcnemar\n",
    "tb = mcnemar_table(y_target = y_test, \n",
    "                   y_model1 = pred_SVM_lin, \n",
    "                   y_model2 = pred_SVM_rbf)\n",
    "\n",
    "print(tb)\n",
    "\n",
    "chi2, p = mcnemar(ary=tb, corrected=True)\n",
    "# It is highly recommended to use exact=True for sample sizes < 25 since chi-squared is not well-approximated by the chi-squared distribution!\n",
    "\n",
    "print('chi-squared:', chi2)\n",
    "print('p-value:', p)\n",
    "\n",
    "if p > 0.05:\n",
    "    print('As p-value is larger than sig. threshold (α=0.05) -> we cannot reject our null hypothesis and assume that there is no significant difference between the two predictive models')\n",
    "else:\n",
    "    print('At a sig. level of 5%%, we can reject the H0 that both models perform equally well on this dataset, since the p-value (%.3f) is smaller than α' %(p))\n",
    "\n",
    "\n"
   ]
  },
  {
   "cell_type": "markdown",
   "metadata": {},
   "source": [
    "## 2.4.2  perceptron versus multilayer feedforward neural network"
   ]
  },
  {
   "cell_type": "code",
   "execution_count": 14,
   "metadata": {},
   "outputs": [],
   "source": [
    "from sklearn.linear_model import Perceptron\n",
    "perc = Perceptron(random_state=42)\n",
    "perc.fit(X_train_scaled, y_train)\n",
    "pred_perc = perc.predict(X_test_scaled)\n",
    "\n",
    "from sklearn.neural_network import MLPClassifier\n",
    "nn =  MLPClassifier(activation='tanh', hidden_layer_sizes=(4,2), max_iter=5000, random_state=42)\n",
    "nn.fit(X_train_scaled, y_train)\n",
    "pred_nn = nn.predict(X_test_scaled)"
   ]
  },
  {
   "cell_type": "code",
   "execution_count": 15,
   "metadata": {},
   "outputs": [
    {
     "name": "stdout",
     "output_type": "stream",
     "text": [
      "[[164   3]\n",
      " [  3  15]]\n",
      "chi-squared: 0.16666666666666666\n",
      "p-value: 0.6830913983096086\n",
      "As p-value is larger than sig. threshold (α=0.05) -> we cannot reject our null hypothesis and assume that there is no significant difference between the two predictive models\n"
     ]
    }
   ],
   "source": [
    "from mlxtend.evaluate import mcnemar_table, mcnemar\n",
    "tb = mcnemar_table(y_target = y_test, \n",
    "                   y_model1 = pred_perc, \n",
    "                   y_model2 = pred_nn)\n",
    "\n",
    "print(tb)\n",
    "\n",
    "chi2, p = mcnemar(ary=tb, corrected=True)\n",
    "# It is highly recommended to use exact=True for sample sizes < 25 since chi-squared is not well-approximated by the chi-squared distribution!\n",
    "\n",
    "print('chi-squared:', chi2)\n",
    "print('p-value:', p)\n",
    "\n",
    "if p > 0.05:\n",
    "    print('As p-value is larger than sig. threshold (α=0.05) -> we cannot reject our null hypothesis and assume that there is no significant difference between the two predictive models')\n",
    "else:\n",
    "    print('At a sig. level of 5%%, we can reject the H0 that both models perform equally well on this dataset, since the p-value (%.3f) is smaller than α' %(p))\n",
    "\n"
   ]
  },
  {
   "cell_type": "markdown",
   "metadata": {},
   "source": [
    "# 2.Programming Exercises\n",
    "\n",
    "## 2.5 Read section 4.7 of the paper https://arxiv.org/pdf/1811.12808.pdf\n",
    "## Implement/adapt the test to compare more than two models, including at least 3 classifiersof the list:\n",
    "##  • SVM (linear)\n",
    "##  • SVM (non-linear kernel)\n",
    "##  • perceptron\n",
    "##  • logistic regression\n",
    "##  • LDA\n",
    "##  • KNN"
   ]
  },
  {
   "cell_type": "code",
   "execution_count": 16,
   "metadata": {},
   "outputs": [],
   "source": [
    "SVM_poly = SVC(C=1.0,kernel='poly', degree=2, random_state=42)\n",
    "SVM_poly.fit(X_train_scaled, y_train)\n",
    "pred_SVM_poly = SVM_poly.predict(X_test_scaled)\n",
    "\n",
    "from sklearn.discriminant_analysis import LinearDiscriminantAnalysis\n",
    "lda = LinearDiscriminantAnalysis()\n",
    "#Learning\n",
    "lda.fit(X_train_scaled, y_train)\n",
    "pred_lda = lda.predict(X_test_scaled)\n",
    "\n",
    "from sklearn.linear_model import SGDClassifier\n",
    "# With loss=\"log\" a logistic regression is be appllied\n",
    "lr = SGDClassifier(loss=\"log\", random_state=42)\n",
    "lr.fit(X_train_scaled, y_train)\n",
    "pred_lr = lr.predict(X_test_scaled)\n",
    "\n",
    "from sklearn.neighbors import KNeighborsClassifier\n",
    "kNN =  KNeighborsClassifier(n_neighbors=3)#, metric = 'manhattan')\n",
    "kNN.fit(X_train_scaled, y_train)\n",
    "pred_kNN = kNN.predict(X_test_scaled)\n"
   ]
  },
  {
   "cell_type": "code",
   "execution_count": 17,
   "metadata": {},
   "outputs": [
    {
     "name": "stdout",
     "output_type": "stream",
     "text": [
      "F: 0.740\n",
      "p-value: 0.6380806969601052\n",
      "As p-value is larger than sig. threshold (α=0.05) -> we cannot reject our null hypothesis and assume that there is no significant difference between the accucary of the predictive models\n"
     ]
    }
   ],
   "source": [
    "from mlxtend.evaluate import ftest\n",
    "f, p_value = ftest(y_test, \n",
    "               pred_SVM_lin, \n",
    "               pred_SVM_rbf,\n",
    "               pred_perc, \n",
    "               pred_nn, \n",
    "               pred_SVM_poly,\n",
    "               pred_lda,\n",
    "               pred_lr,\n",
    "               pred_kNN)\n",
    "\n",
    "print('F: %.3f' %f)\n",
    "print('p-value:', p_value)\n",
    "\n",
    "if p_value > 0.05:\n",
    "    print('As p-value is larger than sig. threshold (α=0.05) -> we cannot reject our null hypothesis and assume that there is no significant difference between the accucary of the predictive models')\n",
    "else:\n",
    "    print('Since the p-value (%.3f) is smaller than α, we can reject the H0 and conclude that there is a difference between the classification accuracies' %p_value)\n",
    "    print('--> perform multiple post hoc pair-wise tests') \n",
    "          "
   ]
  },
  {
   "cell_type": "markdown",
   "metadata": {},
   "source": [
    "# --------------------------------------------------------------------------------\n",
    "# --------------------------------------------------------------------------------\n",
    "# with generated data\n",
    "### to show  differences between the performance of multiple classifiers\n",
    "# --------------------------------------------------------------------------------\n",
    "# --------------------------------------------------------------------------------"
   ]
  },
  {
   "cell_type": "code",
   "execution_count": 18,
   "metadata": {},
   "outputs": [],
   "source": [
    "from sklearn.datasets import make_moons\n",
    "\n",
    "X_moon,y_moon= make_moons(n_samples=1000, shuffle=True, noise=None, random_state=None)\n",
    "X=X_moon\n",
    "y=y_moon\n",
    "# Split dataset into training set and test set\n",
    "X_train, X_test, y_train, y_test = train_test_split(X, y, stratify=y, test_size=0.3, random_state=0)"
   ]
  },
  {
   "cell_type": "code",
   "execution_count": 19,
   "metadata": {},
   "outputs": [],
   "source": [
    "#scaling not crutial as the features have similar scales\n",
    "from sklearn.preprocessing import MinMaxScaler\n",
    "scaler = MinMaxScaler()\n",
    "X_train_scaled = scaler.fit_transform(X_train)\n",
    "X_test_scaled = scaler.transform(X_test)"
   ]
  },
  {
   "cell_type": "code",
   "execution_count": 20,
   "metadata": {},
   "outputs": [],
   "source": [
    "from sklearn.svm import SVC\n",
    "SVM_lin = SVC(kernel='linear', random_state=42)\n",
    "SVM_lin.fit(X_train_scaled, y_train)\n",
    "pred_SVM_lin = SVM_lin.predict(X_test_scaled)\n",
    "\n",
    "from sklearn.discriminant_analysis import LinearDiscriminantAnalysis\n",
    "lda = LinearDiscriminantAnalysis()\n",
    "#Learning\n",
    "lda.fit(X_train_scaled, y_train)\n",
    "pred_lda = lda.predict(X_test_scaled)\n",
    "\n",
    "from sklearn.linear_model import SGDClassifier\n",
    "# With loss=\"log\" a logistic regression is be appllied\n",
    "lr = SGDClassifier(loss=\"log\", random_state=42)\n",
    "lr.fit(X_train_scaled, y_train)\n",
    "pred_lr = lr.predict(X_test_scaled)\n",
    "\n",
    "## instance-based\n",
    "from sklearn.neighbors import KNeighborsClassifier\n",
    "kNN =  KNeighborsClassifier(n_neighbors=3)#, metric = 'manhattan')\n",
    "kNN.fit(X_train_scaled, y_train)\n",
    "pred_kNN = kNN.predict(X_test_scaled)\n",
    "\n",
    "## non-linear\n",
    "\n",
    "SVM_rbf = SVC(kernel='rbf', random_state=42)\n",
    "SVM_rbf.fit(X_train_scaled, y_train)\n",
    "pred_SVM_rbf = SVM_rbf.predict(X_test_scaled)\n",
    "\n",
    "from sklearn.linear_model import Perceptron\n",
    "perc = Perceptron(random_state=42)\n",
    "perc.fit(X_train_scaled, y_train)\n",
    "pred_perc = perc.predict(X_test_scaled)\n",
    "\n",
    "from sklearn.neural_network import MLPClassifier\n",
    "nn =  MLPClassifier(activation='tanh', hidden_layer_sizes=(4,2), max_iter=5000, random_state=42)\n",
    "nn.fit(X_train_scaled, y_train)\n",
    "pred_nn = nn.predict(X_test_scaled)\n",
    "\n",
    "SVM_poly = SVC(C=1.0,kernel='poly', degree=2, random_state=42)\n",
    "SVM_poly.fit(X_train_scaled, y_train)\n",
    "pred_SVM_poly = SVM_poly.predict(X_test_scaled)"
   ]
  },
  {
   "cell_type": "code",
   "execution_count": 21,
   "metadata": {},
   "outputs": [
    {
     "name": "stdout",
     "output_type": "stream",
     "text": [
      "F: 26.280\n",
      "p-value: 2.67239263207248e-16\n",
      "Since the p-value (0.000) is smaller than α, we can reject the H0 and conclude that there is a difference between the classification accuracies\n",
      "--> perform multiple post hoc pair-wise tests\n"
     ]
    }
   ],
   "source": [
    "from mlxtend.evaluate import ftest\n",
    "f, p_value = ftest(y_test, \n",
    "               pred_SVM_lin, \n",
    "               pred_SVM_rbf,\n",
    "               pred_perc, \n",
    "               pred_nn)\n",
    "\n",
    "print('F: %.3f' %f)\n",
    "print('p-value:', p_value)\n",
    "\n",
    "if p_value > 0.05:\n",
    "    print('As p-value is larger than sig. threshold (α=0.05) -> we cannot reject our null hypothesis and assume that there is no significant difference between the accucary of the predictive models')\n",
    "else:\n",
    "    print('Since the p-value (%.3f) is smaller than α, we can reject the H0 and conclude that there is a difference between the classification accuracies' %p_value)\n",
    "    print('--> perform multiple post hoc pair-wise tests') \n",
    "          "
   ]
  },
  {
   "cell_type": "markdown",
   "metadata": {},
   "source": [
    "## Perform multiple post hoc pair-wise tests to determine which pairs have different population proportions.\n",
    "### McNemar tests with a Bonferroni correction"
   ]
  },
  {
   "cell_type": "code",
   "execution_count": 22,
   "metadata": {},
   "outputs": [
    {
     "name": "stdout",
     "output_type": "stream",
     "text": [
      "Number of Multiple Tests =  6.0\n"
     ]
    }
   ],
   "source": [
    "numbModels = 4\n",
    "from scipy.special import comb\n",
    "numComb = comb(numbModels, 2);\n",
    "print('Number of Multiple Tests = ', numComb)\n",
    "\n"
   ]
  },
  {
   "cell_type": "markdown",
   "metadata": {},
   "source": [
    "### SVM lin vs RBF rbf"
   ]
  },
  {
   "cell_type": "code",
   "execution_count": 23,
   "metadata": {},
   "outputs": [
    {
     "name": "stdout",
     "output_type": "stream",
     "text": [
      "4.1854369440036287e-10\n",
      "p-value < 0.05/NumbMultiplTests, we can reject the H0 that both models perform equally\n"
     ]
    }
   ],
   "source": [
    "from mlxtend.evaluate import mcnemar_table, mcnemar\n",
    "tb = mcnemar_table(y_target = y_test, \n",
    "                   y_model1 = pred_SVM_lin, \n",
    "                   y_model2 = pred_SVM_rbf)\n",
    "chi2, p = mcnemar(ary=tb, corrected=True)\n",
    "print(p)\n",
    "if p > 0.05/numComb:\n",
    "    print('p-value > 0.05/NumbMultiplTests, we cannot reject H0 (there is no significant difference between the 2 models)')\n",
    "else:\n",
    "    print('p-value < 0.05/NumbMultiplTests, we can reject the H0 that both models perform equally')"
   ]
  },
  {
   "cell_type": "markdown",
   "metadata": {},
   "source": [
    "### SVM lin vs perceptron"
   ]
  },
  {
   "cell_type": "code",
   "execution_count": 24,
   "metadata": {},
   "outputs": [
    {
     "name": "stdout",
     "output_type": "stream",
     "text": [
      "0.3408032468860819\n",
      "p-value > 0.05/NumbMultiplTests, we cannot reject H0 (there is no significant difference between the 2 models)\n"
     ]
    }
   ],
   "source": [
    "from mlxtend.evaluate import mcnemar_table, mcnemar\n",
    "tb = mcnemar_table(y_target = y_test, \n",
    "                   y_model1 = pred_SVM_lin, \n",
    "                   y_model2 = pred_perc)\n",
    "chi2, p = mcnemar(ary=tb, corrected=True)\n",
    "print(p)\n",
    "if p > 0.05/numComb:\n",
    "    print('p-value > 0.05/NumbMultiplTests, we cannot reject H0 (there is no significant difference between the 2 models)')\n",
    "else:\n",
    "    print('p-value < 0.05/NumbMultiplTests, we can reject the H0 that both models perform equally')"
   ]
  },
  {
   "cell_type": "markdown",
   "metadata": {},
   "source": [
    "### SVM lin vs NN"
   ]
  },
  {
   "cell_type": "code",
   "execution_count": 25,
   "metadata": {},
   "outputs": [
    {
     "name": "stdout",
     "output_type": "stream",
     "text": [
      "0.24821307898992026\n",
      "p-value > 0.05/NumbMultiplTests, we cannot reject H0 (there is no significant difference between the 2 models)\n"
     ]
    }
   ],
   "source": [
    "from mlxtend.evaluate import mcnemar_table, mcnemar\n",
    "tb = mcnemar_table(y_target = y_test, \n",
    "                   y_model1 = pred_SVM_lin, \n",
    "                   y_model2 = pred_nn)\n",
    "chi2, p = mcnemar(ary=tb, corrected=True)\n",
    "print(p)\n",
    "if p > 0.05/numComb:\n",
    "    print('p-value > 0.05/NumbMultiplTests, we cannot reject H0 (there is no significant difference between the 2 models)')\n",
    "else:\n",
    "    print('p-value < 0.05/NumbMultiplTests, we can reject the H0 that both models perform equally')"
   ]
  },
  {
   "cell_type": "markdown",
   "metadata": {},
   "source": [
    "### RBF rbf vs Perceptron"
   ]
  },
  {
   "cell_type": "code",
   "execution_count": 26,
   "metadata": {},
   "outputs": [
    {
     "name": "stdout",
     "output_type": "stream",
     "text": [
      "7.025137193458291e-12\n",
      "p-value < 0.05/NumbMultiplTests, we can reject the H0 that both models perform equally\n"
     ]
    }
   ],
   "source": [
    "from mlxtend.evaluate import mcnemar_table, mcnemar\n",
    "tb = mcnemar_table(y_target = y_test, \n",
    "                   y_model1 = pred_SVM_rbf, \n",
    "                   y_model2 = pred_perc)\n",
    "chi2, p = mcnemar(ary=tb, corrected=True)\n",
    "print(p)\n",
    "if p > 0.05/numComb:\n",
    "    print('p-value > 0.05/NumbMultiplTests, we cannot reject H0 (there is no significant difference between the 2 models)')\n",
    "else:\n",
    "    print('p-value < 0.05/NumbMultiplTests, we can reject the H0 that both models perform equally')"
   ]
  },
  {
   "cell_type": "markdown",
   "metadata": {},
   "source": [
    "### RBF rbf vs NN"
   ]
  },
  {
   "cell_type": "code",
   "execution_count": 27,
   "metadata": {},
   "outputs": [
    {
     "name": "stdout",
     "output_type": "stream",
     "text": [
      "1.9467060601806844e-09\n",
      "p-value < 0.05/NumbMultiplTests, we can reject the H0 that both models perform equally\n"
     ]
    }
   ],
   "source": [
    "from mlxtend.evaluate import mcnemar_table, mcnemar\n",
    "tb = mcnemar_table(y_target = y_test, \n",
    "                   y_model1 = pred_SVM_rbf, \n",
    "                   y_model2 = pred_nn)\n",
    "chi2, p = mcnemar(ary=tb, corrected=True)\n",
    "print(p)\n",
    "if p > 0.05/numComb:\n",
    "    print('p-value > 0.05/NumbMultiplTests, we cannot reject H0 (there is no significant difference between the 2 models)')\n",
    "else:\n",
    "    print('p-value < 0.05/NumbMultiplTests, we can reject the H0 that both models perform equally')"
   ]
  },
  {
   "cell_type": "markdown",
   "metadata": {},
   "source": [
    "### Perceptron vs NN"
   ]
  },
  {
   "cell_type": "code",
   "execution_count": 28,
   "metadata": {},
   "outputs": [
    {
     "name": "stdout",
     "output_type": "stream",
     "text": [
      "0.16142946236707922\n",
      "p-value > 0.05/NumbMultiplTests, we cannot reject H0 (there is no significant difference between the 2 models)\n"
     ]
    }
   ],
   "source": [
    "from mlxtend.evaluate import mcnemar_table, mcnemar\n",
    "tb = mcnemar_table(y_target = y_test, \n",
    "                   y_model1 = pred_perc, \n",
    "                   y_model2 = pred_nn)\n",
    "chi2, p = mcnemar(ary=tb, corrected=True)\n",
    "print(p)\n",
    "if p > 0.05/numComb:\n",
    "    print('p-value > 0.05/NumbMultiplTests, we cannot reject H0 (there is no significant difference between the 2 models)')\n",
    "else:\n",
    "    print('p-value < 0.05/NumbMultiplTests, we can reject the H0 that both models perform equally')"
   ]
  }
 ],
 "metadata": {
  "anaconda-cloud": {},
  "kernelspec": {
   "display_name": "Python 3",
   "language": "python",
   "name": "python3"
  },
  "language_info": {
   "codemirror_mode": {
    "name": "ipython",
    "version": 3
   },
   "file_extension": ".py",
   "mimetype": "text/x-python",
   "name": "python",
   "nbconvert_exporter": "python",
   "pygments_lexer": "ipython3",
   "version": "3.10.9 (tags/v3.10.9:1dd9be6, Dec  6 2022, 20:01:21) [MSC v.1934 64 bit (AMD64)]"
  },
  "vscode": {
   "interpreter": {
    "hash": "25ff42f5d583ba210357ea1e4fd14887d743d99d25081bf7f0755cbc50cbce62"
   }
  }
 },
 "nbformat": 4,
 "nbformat_minor": 1
}
